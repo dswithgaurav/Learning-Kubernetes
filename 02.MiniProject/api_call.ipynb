{
 "cells": [
  {
   "cell_type": "markdown",
   "id": "a5f3f963",
   "metadata": {},
   "source": [
    "## Request to Locally Hosted Docker Container"
   ]
  },
  {
   "cell_type": "code",
   "execution_count": null,
   "id": "520c1e15",
   "metadata": {},
   "outputs": [
    {
     "name": "stdout",
     "output_type": "stream",
     "text": [
      "200\n",
      "{'prediction': 86.0}\n"
     ]
    }
   ],
   "source": [
    "import requests\n",
    "\n",
    "url = \"http://localhost:8000/predict\"\n",
    "headers = {\"Content-Type\": \"application/json\"}\n",
    "data = {\"x1\": 10.0, \"x2\": 2.0}\n",
    "\n",
    "response = requests.post(url, json=data, headers=headers)\n",
    "\n",
    "print(response.status_code)\n",
    "print(response.json())"
   ]
  },
  {
   "cell_type": "markdown",
   "id": "cccb0a5c",
   "metadata": {},
   "source": [
    "### Request to Kubernetes"
   ]
  },
  {
   "cell_type": "code",
   "execution_count": null,
   "id": "75a408a3",
   "metadata": {},
   "outputs": [
    {
     "name": "stdout",
     "output_type": "stream",
     "text": [
      "200\n",
      "{'prediction': 86.0}\n"
     ]
    }
   ],
   "source": [
    "# http://127.0.0.1:51118/\n",
    "\n",
    "import requests\n",
    "\n",
    "url = \"http://127.0.0.1:51118/predict\"\n",
    "headers = {\"Content-Type\": \"application/json\"}\n",
    "data = {\"x1\": 10.0, \"x2\": 2.0}\n",
    "\n",
    "response = requests.post(url, json=data, headers=headers)\n",
    "\n",
    "print(response.status_code)\n",
    "print(response.json())"
   ]
  }
 ],
 "metadata": {
  "kernelspec": {
   "display_name": "devops",
   "language": "python",
   "name": "python3"
  },
  "language_info": {
   "codemirror_mode": {
    "name": "ipython",
    "version": 3
   },
   "file_extension": ".py",
   "mimetype": "text/x-python",
   "name": "python",
   "nbconvert_exporter": "python",
   "pygments_lexer": "ipython3",
   "version": "3.11.11"
  }
 },
 "nbformat": 4,
 "nbformat_minor": 5
}
